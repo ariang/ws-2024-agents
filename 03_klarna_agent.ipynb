{
 "cells": [
  {
   "cell_type": "code",
   "execution_count": 1,
   "metadata": {},
   "outputs": [],
   "source": [
    "from langchain.agents import AgentType, initialize_agent, load_tools\n",
    "from langchain.tools import AIPluginTool\n",
    "from langchain_openai import ChatOpenAI"
   ]
  },
  {
   "cell_type": "code",
   "execution_count": 2,
   "metadata": {},
   "outputs": [],
   "source": [
    "tool = AIPluginTool.from_plugin_url(\"https://www.klarna.com/.well-known/ai-plugin.json\")"
   ]
  },
  {
   "cell_type": "code",
   "execution_count": 3,
   "metadata": {},
   "outputs": [
    {
     "name": "stderr",
     "output_type": "stream",
     "text": [
      "/Users/vaclavpechtor/Code/code_examples/ws-2024-agents/env/lib/python3.10/site-packages/langchain_core/_api/deprecation.py:117: LangChainDeprecationWarning: The function `initialize_agent` was deprecated in LangChain 0.1.0 and will be removed in 0.2.0. Use Use new agent constructor methods like create_react_agent, create_json_agent, create_structured_chat_agent, etc. instead.\n",
      "  warn_deprecated(\n",
      "/Users/vaclavpechtor/Code/code_examples/ws-2024-agents/env/lib/python3.10/site-packages/langchain_core/_api/deprecation.py:117: LangChainDeprecationWarning: The function `run` was deprecated in LangChain 0.1.0 and will be removed in 0.2.0. Use invoke instead.\n",
      "  warn_deprecated(\n"
     ]
    },
    {
     "name": "stdout",
     "output_type": "stream",
     "text": [
      "\n",
      "\n",
      "\u001b[1m> Entering new AgentExecutor chain...\u001b[0m\n",
      "\u001b[32;1m\u001b[1;3mI need to use the Klarna Shopping API to search for available t-shirts.\n",
      "Action: KlarnaProducts\n",
      "Action Input: None\u001b[0m\n",
      "Observation: \u001b[38;5;200m\u001b[1;3mUsage Guide: Assistant uses the Klarna plugin to get relevant product suggestions for any shopping or product discovery purpose. Assistant will reply with the following 3 paragraphs 1) Search Results 2) Product Comparison of the Search Results 3) Followup Questions. The first paragraph contains a list of the products with their attributes listed clearly and concisely as bullet points under the product, together with a link to the product and an explanation. Links will always be returned and should be shown to the user. The second paragraph compares the results returned in a summary sentence starting with \"In summary\". Assistant comparisons consider only the most important features of the products that will help them fit the users request, and each product mention is brief, short and concise. In the third paragraph assistant always asks helpful follow-up questions and end with a question mark. When assistant is asking a follow-up question, it uses it's product expertise to provide information pertaining to the subject of the user's request that may guide them in their search for the right product.\n",
      "\n",
      "OpenAPI Spec: {'openapi': '3.0.1', 'info': {'version': 'v0', 'title': 'Open AI Klarna product Api'}, 'servers': [{'url': 'https://www.klarna.com/us/shopping'}], 'tags': [{'name': 'open-ai-product-endpoint', 'description': 'Open AI Product Endpoint. Query for products.'}], 'paths': {'/public/openai/v0/products': {'get': {'tags': ['open-ai-product-endpoint'], 'summary': 'API for fetching Klarna product information', 'operationId': 'productsUsingGET', 'parameters': [{'name': 'countryCode', 'in': 'query', 'description': 'ISO 3166 country code with 2 characters based on the user location. Currently, only US, GB, DE, SE and DK are supported.', 'required': True, 'schema': {'type': 'string'}}, {'name': 'q', 'in': 'query', 'description': \"A precise query that matches one very small category or product that needs to be searched for to find the products the user is looking for. If the user explicitly stated what they want, use that as a query. The query is as specific as possible to the product name or category mentioned by the user in its singular form, and don't contain any clarifiers like latest, newest, cheapest, budget, premium, expensive or similar. The query is always taken from the latest topic, if there is a new topic a new query is started. If the user speaks another language than English, translate their request into English (example: translate fia med knuff to ludo board game)!\", 'required': True, 'schema': {'type': 'string'}}, {'name': 'size', 'in': 'query', 'description': 'number of products returned', 'required': False, 'schema': {'type': 'integer'}}, {'name': 'min_price', 'in': 'query', 'description': \"(Optional) Minimum price in local currency for the product searched for. Either explicitly stated by the user or implicitly inferred from a combination of the user's request and the kind of product searched for.\", 'required': False, 'schema': {'type': 'integer'}}, {'name': 'max_price', 'in': 'query', 'description': \"(Optional) Maximum price in local currency for the product searched for. Either explicitly stated by the user or implicitly inferred from a combination of the user's request and the kind of product searched for.\", 'required': False, 'schema': {'type': 'integer'}}], 'responses': {'200': {'description': 'Products found', 'content': {'application/json': {'schema': {'$ref': '#/components/schemas/ProductResponse'}}}}, '503': {'description': 'one or more services are unavailable'}}, 'deprecated': False}}}, 'components': {'schemas': {'Product': {'type': 'object', 'properties': {'attributes': {'type': 'array', 'items': {'type': 'string'}}, 'name': {'type': 'string'}, 'price': {'type': 'string'}, 'url': {'type': 'string'}}, 'title': 'Product'}, 'ProductResponse': {'type': 'object', 'properties': {'products': {'type': 'array', 'items': {'$ref': '#/components/schemas/Product'}}}, 'title': 'ProductResponse'}}}}\u001b[0m\n",
      "Thought:\u001b[32;1m\u001b[1;3mI can use the Klarna Shopping API to search for available t-shirts.\n",
      "Action: requests_get\n",
      "Action Input: \"https://www.klarna.com/us/shopping/public/openai/v0/products?countryCode=US&q=t-shirts\"\u001b[0m\n",
      "Observation: \u001b[36;1m\u001b[1;3m{\"products\":[{\"name\":\"Lacoste Men's T-shirts 3-pack - Black\",\"url\":\"https://www.klarna.com/us/shopping/pl/cl10001/3202043025/Clothing/Lacoste-Men-s-T-shirts-3-pack-Black/?utm_source=openai&ref-site=openai_plugin\",\"price\":\"$24.11\",\"attributes\":[\"Material:Jersey,Cotton\",\"Target Group:Man\",\"Color:Black\"]},{\"name\":\"Under Armour Men's Tech 2.0 Short Sleeve T-shirt - Academy/Graphite\",\"url\":\"https://www.klarna.com/us/shopping/pl/cl10001/3200065005/Clothing/Under-Armour-Men-s-Tech-2.0-Short-Sleeve-T-shirt-Academy-Graphite/?utm_source=openai&ref-site=openai_plugin\",\"price\":\"$13.70\",\"attributes\":[\"Material:Polyester\",\"Target Group:Man\",\"Color:Blue\",\"Properties:Moisture Wicking\"]},{\"name\":\"Youth Rockstar Original Tie Dye T-shirt - Light Blue\",\"url\":\"https://www.klarna.com/us/shopping/pl/cl359/3220561353/Children-s-Clothing/Youth-Rockstar-Original-Tie-Dye-T-shirt-Light-Blue/?utm_source=openai&ref-site=openai_plugin\",\"price\":\"$15.00\",\"attributes\":[\"Color:Blue\",\"Model:Boy,Girl\"]},{\"name\":\"Under Armour Tech 2.0 Short Sleeve T-shirt Men - Steel Light Heather/Black\",\"url\":\"https://www.klarna.com/us/shopping/pl/cl10001/3201576234/Clothing/Under-Armour-Tech-2.0-Short-Sleeve-T-shirt-Men-Steel-Light-Heather-Black/?utm_source=openai&ref-site=openai_plugin\",\"price\":\"$12.50\",\"attributes\":[\"Material:Polyester\",\"Target Group:Man\",\"Color:Gray\",\"Sport / Activity:Fitness & Gym\",\"Properties:Moisture Wicking\"]},{\"name\":\"Under Armour Tech 2.0 Short Sleeve T-shirt Men - Black/Graphite\",\"url\":\"https://www.klarna.com/us/shopping/pl/cl10001/3206935367/Clothing/Under-Armour-Tech-2.0-Short-Sleeve-T-shirt-Men-Black-Graphite/?utm_source=openai&ref-site=openai_plugin\",\"price\":\"$10.47\",\"attributes\":[\"Material:Polyester\",\"Sport / Activity:Running,Fitness & Gym\",\"Target Group:Man\",\"Color:Black\",\"Properties:Stretch,Moisture Wicking\"]}]}\u001b[0m\n",
      "Thought:\u001b[32;1m\u001b[1;3mI have found the available t-shirts on Klarna Shopping API.\n",
      "Final Answer: The available t-shirts on Klarna Shopping API are:\n",
      "1. Lacoste Men's T-shirts 3-pack - Black\n",
      "2. Under Armour Men's Tech 2.0 Short Sleeve T-shirt - Academy/Graphite\n",
      "3. Youth Rockstar Original Tie Dye T-shirt - Light Blue\n",
      "4. Under Armour Tech 2.0 Short Sleeve T-shirt Men - Steel Light Heather/Black\n",
      "5. Under Armour Tech 2.0 Short Sleeve T-shirt Men - Black/Graphite\u001b[0m\n",
      "\n",
      "\u001b[1m> Finished chain.\u001b[0m\n"
     ]
    },
    {
     "data": {
      "text/plain": [
       "\"The available t-shirts on Klarna Shopping API are:\\n1. Lacoste Men's T-shirts 3-pack - Black\\n2. Under Armour Men's Tech 2.0 Short Sleeve T-shirt - Academy/Graphite\\n3. Youth Rockstar Original Tie Dye T-shirt - Light Blue\\n4. Under Armour Tech 2.0 Short Sleeve T-shirt Men - Steel Light Heather/Black\\n5. Under Armour Tech 2.0 Short Sleeve T-shirt Men - Black/Graphite\""
      ]
     },
     "execution_count": 3,
     "metadata": {},
     "output_type": "execute_result"
    }
   ],
   "source": [
    "llm = ChatOpenAI(temperature=0)\n",
    "tools = load_tools([\"requests_all\"])\n",
    "tools += [tool]\n",
    "\n",
    "agent_chain = initialize_agent(\n",
    "    tools, llm, agent=AgentType.ZERO_SHOT_REACT_DESCRIPTION, verbose=True\n",
    ")\n",
    "agent_chain.run(\"what t shirts are available in klarna?\")"
   ]
  },
  {
   "cell_type": "code",
   "execution_count": null,
   "metadata": {},
   "outputs": [],
   "source": []
  }
 ],
 "metadata": {
  "kernelspec": {
   "display_name": "Python 3",
   "language": "python",
   "name": "python3"
  },
  "language_info": {
   "codemirror_mode": {
    "name": "ipython",
    "version": 3
   },
   "file_extension": ".py",
   "mimetype": "text/x-python",
   "name": "python",
   "nbconvert_exporter": "python",
   "pygments_lexer": "ipython3",
   "version": "3.10.13"
  }
 },
 "nbformat": 4,
 "nbformat_minor": 2
}
